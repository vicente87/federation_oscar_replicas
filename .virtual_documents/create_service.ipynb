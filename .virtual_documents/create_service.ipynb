from oscar_python.client import Client # api de python para OSCAR



client = Client("oscar-replica1","https://condescending-albattani4.im.grycap.net", "oscar", "oscar123", True)
services = client.list_services()
print(services)


#client.create_service("fedecluster_oscar_local.yaml")
try:
    client.create_service("replicas/fedecluster_oscar_replica1_orchestrator.yaml")
    print("Service created")
except Exception as ex:
    print("Error creating service: ", ex)


# Diccionario original
section = {
    'replica_1': ['item1', 'item2', 'item3'],
    'replica_2': ['itemA', 'itemB']
}

# Queremos insertar 'replica_0' en la posición 0
posicion = 0
nueva_clave = 'replica_0'
nuevo_valor = ['federation']

# Convertimos el diccionario en una lista de pares clave-valor (tuplas)
items = list(section.items())

# Creamos un nuevo diccionario, insertando la nueva clave en la posición deseada
nuevo_diccionario = {}

# Recorremos las claves actuales e insertamos en la nueva estructura
for i, (clave, valor) in enumerate(items):
    if i == posicion:
        # Insertar la nueva clave en la posición indicada
        nuevo_diccionario[nueva_clave] = nuevo_valor
    # Agregamos la clave y valor original
    nuevo_diccionario[clave] = valor

# Si la posición es mayor que el número de elementos, agregamos al final
if len(items) <= posicion:
    nuevo_diccionario[nueva_clave] = nuevo_valor

print(nuevo_diccionario)



