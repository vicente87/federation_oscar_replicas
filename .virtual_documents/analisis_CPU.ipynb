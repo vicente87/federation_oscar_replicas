import requests
from requests.auth import HTTPBasicAuth
import time
from datetime import datetime

# URL a la que quieres hacer la peticiónhttps://eloquent-chaum4.im.grycap.net/
#url = "https://eloquent-chaum4.im.grycap.net/system/status" 
url="https://great-darwin5.im.grycap.net/system/status"

# Credenciales de autenticación
username = "oscar"
password = "oscar-ai4eosc-dzFcy" 



while True:
    cpu_Alloc=0
    mem_Alloc=0
    cpu_nodo=[0,0,0]
    mem_nodo=[0,0,0] 
    i=0
    time.sleep(20)

# Hacer la petición GET con autenticación básica
    timestamp = datetime.now().strftime("%Y-%m-%d %H:%M:%S")
    response = requests.get(url, auth=HTTPBasicAuth(username, password))

    # Comprobar el estado de la respuesta
    if response.status_code == 200:
      
    # Convertir la respuesta a JSON
        try:
            data = response.json()
        
            print(data)
        # Verificar ##que la respuesta sea un array de objetos
            if isinstance(data, list):
                nodos=len(data)
            # Iterar sobre cada objeto en el array
                if nodos > 1:
                    front=data[0]
                    cpu_nodo[0]=int(front['cpuCapacity']) - int(front['cpuUsage'])
                    mem_nodo[0]= int(front['memoryCapacity']) - int(front['memoryUsage'])
                # Iterar sobre cada objeto en el array, excepto el primero
                    for obj in data[1:]:
                        i+=1
                        mem_nodo[i]=int(obj['memoryCapacity']) - int(obj['memoryUsage'])
                        cpu_nodo[i]= int(obj['cpuCapacity']) - int(obj['cpuUsage'])
                        #print(f"cpuAlloc: {int(obj['cpuCapacity']) - int(obj['cpuUsage'])}")
                        cpu_Alloc+=cpu_nodo[i]       #int(obj['cpuCapacity']) - int(obj['cpuUsage'])
                        mem_Alloc+=mem_nodo[i]      #int(obj['memoryCapacity']) - int(obj['memoryUsage'])
                        
            else:
                print("La respuesta no es un array de objetos JSON.")
    
        except ValueError as e:
            print("Error al convertir la respuesta a JSON:", e)
    else:
        print(f"Error en la petición: {response.status_code}")
        print("Mensaje de error:")
        print(response.text)
    print(cpu_Alloc)
    print(mem_Alloc)
    #Guardar los valores de CPU y memoria en un txt
    resultado = ''
    for k, elemento in enumerate(cpu_nodo):
        resultado += str(cpu_nodo[k]) + ',' + str(mem_nodo[k]) + ','
        
    print(resultado)
    with open("valores_cpu2_50.txt", "a") as archivo:
        
        archivo.write(f"{timestamp},{cpu_Alloc}, {mem_Alloc}, {resultado}\n")


import matplotlib.pyplot as plt
import pandas as pd
from datetime import datetime

def leer_datos_del_archivo(nombre_archivo):
    tiempos = []
    valores1 = []
    valores2 = []

    with open(nombre_archivo, "r") as archivo:
        for linea in archivo:
            partes = linea.strip().split(",")
            timestamp_str = partes[0]
            
            valor1_str = partes[1].strip()
            valor2_str = partes[2].strip()

            # Convertir la marca de tiempo a un objeto datetime
            timestamp = datetime.strptime(timestamp_str, "%Y-%m-%d %H:%M:%S")
            tiempos.append(timestamp)

            # Convertir los valores a enteros
            valor1 = int(valor1_str)
            valor2 = int(valor2_str)

            valores1.append(valor1)
            valores2.append(valor2)

    return tiempos, valores1, valores2

def graficar_datos(tiempos, valores1, valores2,imagen):
    plt.figure(figsize=(14, 7))

    # Primer gráfico
    plt.subplot(2, 1, 1)
    plt.plot(tiempos, valores1, label='Valor1', color='blue')
    plt.xlabel('Time')
    plt.ylabel('miliCPU')
    plt.title('CPU')
    
    plt.grid(True)

    # Segundo gráfico
    plt.subplot(2, 1, 2)
    plt.plot(tiempos, valores2, label='Valor2', color='green')
    plt.xlabel('Time')
    plt.ylabel('Bytes')
    plt.title('Memory')
    
    plt.grid(True)

    #plt.tight_layout()
    #plt.show()
    
    plt.tight_layout()
    plt.savefig(imagen, format='jpg')
    plt.close()

imagen = "analisis_cpu2_50.jpg"
archivo = "valores_cpu2_50.txt"
tiempos, valores1, valores2 = leer_datos_del_archivo(archivo)
graficar_datos(tiempos, valores1, valores2, imagen)


import matplotlib.pyplot as plt
from datetime import datetime

# Función para procesar y graficar una línea de datos
def procesar_y_graficar(linea, index):
    tiempos=[]
    # Separar la cadena en partes
    parts = linea.strip().split(',')

    # Obtener la coordenada x (el primer valor de la línea)
    timestamp_str = parts[0]  # Este es el primer valor numérico en la línea
    # Convertir la marca de tiempo a un objeto datetime
    timestamp = datetime.strptime(timestamp_str, "%Y-%m-%d %H:%M:%S")
    tiempos.append(timestamp)

    # Obtener las coordenadas y (los valores restantes)
    y_values = list(map(int, parts[1:]))

    # Graficar cada valor y en un gráfico separado
    for i, y in enumerate(y_values, start=1):
        plt.figure(figsize=(6, 4))
        plt.plot(x, y, 'o', label=f'Dato {i}')
        plt.xlabel('x')
        plt.ylabel('Valores')
        plt.title(f'Gráfico de valores del vector - Línea {index + 1}, Dato {i}')
        plt.legend()
        plt.grid(True)
        plt.show()

# Leer el archivo
with open('valores_cpu2_50.txt', 'r') as file:
    for index, linea in enumerate(file):
        procesar_y_graficar(linea, index)




