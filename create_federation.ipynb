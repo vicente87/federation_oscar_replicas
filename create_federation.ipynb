{
 "cells": [
  {
   "cell_type": "code",
   "execution_count": 13,
   "id": "19285751-be6f-4b0d-b17f-b9e1b9cff195",
   "metadata": {},
   "outputs": [],
   "source": [
    "import yaml\n",
    "import copy\n",
    "import os\n",
    "import shutil\n",
    "# Ruta del archivo YAML\n",
    "ruta_fichero = 'federation.yaml'\n",
    "\n",
    "# Leer el contenido del archivo YAML y almacenarlo en una variable\n",
    "with open(ruta_fichero, 'r') as file:\n",
    "    fdl= yaml.safe_load(file)\n",
    "\n",
    "# fdl_federation tiene el contenido del archivo YAML\n",
    "fdl_federation = yaml.dump(fdl, sort_keys=False)#print(fdl_federation)\n",
    "\n"
   ]
  },
  {
   "cell_type": "code",
   "execution_count": 14,
   "id": "14b5fc35-e53d-40a0-9cd2-4c5ed2e2116d",
   "metadata": {},
   "outputs": [
    {
     "name": "stdout",
     "output_type": "stream",
     "text": [
      "oscar-replica1\n",
      "El atributo 'federation' existe.\n",
      "La carpeta 'replicas' ya existe.\n"
     ]
    }
   ],
   "source": [
    "orchestrator_name = list(fdl['functions']['oscar'][0].keys())[0]\n",
    "print(orchestrator_name)\n",
    "federation = fdl.get('functions', {}).get('oscar', [{}])[0].get(orchestrator_name, {}).get('federation', None)\n",
    "\n",
    "if federation is not None:\n",
    "    print(\"El atributo 'federation' existe.\")\n",
    "else:\n",
    "    print(\"El atributo 'federation' no existe.\")\n",
    "    \n",
    "ruta_carpeta = 'replicas'\n",
    "\n",
    "# Verificar si la carpeta existe, si no, crearla\n",
    "if not os.path.exists(ruta_carpeta):\n",
    "    os.makedirs(ruta_carpeta)\n",
    "    print(f\"La carpeta '{ruta_carpeta}' ha sido creada.\")\n",
    "else:\n",
    "    print(f\"La carpeta '{ruta_carpeta}' ya existe.\")"
   ]
  },
  {
   "cell_type": "code",
   "execution_count": 15,
   "id": "7054d20a-3fce-4a03-ba63-c386259b10e1",
   "metadata": {},
   "outputs": [
    {
     "name": "stdout",
     "output_type": "stream",
     "text": [
      "oscar-replica1\n",
      "ok\n"
     ]
    }
   ],
   "source": [
    "orchestrator_name = list(fdl['functions']['oscar'][0].keys())[0]\n",
    "print(orchestrator_name)\n",
    "\n",
    "atrib_federation = fdl.get('functions', {}).get('oscar', [{}])[0].get(orchestrator_name, {}).get('federation', None)\n",
    "\n",
    "if atrib_federation is not None:\n",
    "    if fdl['functions']['oscar'][0][orchestrator_name]['federation'] and fdl['functions']['oscar'][0][orchestrator_name]['delegation'] != \"static\":\n",
    "        print(\"ok\")\n",
    "    else:\n",
    "        print('not')\n",
    "else:\n",
    "    print('not')"
   ]
  },
  {
   "cell_type": "code",
   "execution_count": 16,
   "id": "9cea5d29-b6ed-42cf-b8e8-fc485d6636fc",
   "metadata": {},
   "outputs": [
    {
     "name": "stdout",
     "output_type": "stream",
     "text": [
      "FDL guardado en replicas/fedecluster_oscar_replica1_orchestrator.yaml\n",
      "True\n"
     ]
    }
   ],
   "source": [
    "# Cargar el YAML como un diccionario de Python\n",
    "\n",
    "orchestrator= {\n",
    "    \"functions\":{'oscar':list()}\n",
    "}\n",
    "# Obtener el primer cluster (orchestrator) y su nombre\n",
    "save= list(fdl['functions']['oscar'])\n",
    "\n",
    "# Creación de fdl_orchestrator por separado\n",
    "orchestrator['functions']['oscar'].append((save[0]))\n",
    "\n",
    "orchestrator['clusters']=copy.copy(fdl['clusters'])\n",
    "\n",
    "orchestrator['storage_providers']=copy.copy(fdl['storage_providers'])\n",
    "\n",
    "cluster_coordinator = yaml.dump(orchestrator, sort_keys=False)            \n",
    "#print(cluster_coordinator)\n",
    "\n",
    "directory = 'replicas'\n",
    "\n",
    "# Verificar si la carpeta existe, si no, crearla\n",
    "if not os.path.exists(directory):\n",
    "    os.makedirs(directory)\n",
    "    \n",
    "ruta_archivo =directory+\"/fedecluster_\"+ orchestrator_name.replace(\"-\", \"_\")+'_orchestrator.yaml'\n",
    "\n",
    "with open(ruta_archivo, 'w') as file:\n",
    "    yaml.dump(orchestrator, file, sort_keys=False)\n",
    "\n",
    "print(f\"FDL guardado en {ruta_archivo}\")\n",
    "\n",
    "if fdl['functions']['oscar'][0][orchestrator_name]['federation']:\n",
    "    print(fdl['functions']['oscar'][0][orchestrator_name]['federation'])\n",
    "else:\n",
    "    print(fdl['functions']['oscar'][0][orchestrator_name]['replicas'])\n",
    "    \n",
    "    \n",
    "orchestrator_replicas = fdl['functions']['oscar'][0][orchestrator_name]['replicas']\n",
    "orchestrator_output = fdl['functions']['oscar'][0][orchestrator_name]['output']\n",
    "\n",
    "\n",
    "# Crear un diccionario para mapear nombres de apartados a sus respectivos cluster_ids\n",
    "section_names = [list(section.keys())[0] for section in fdl['functions']['oscar']]\n",
    "name_to_section = {name: section for section in fdl['functions']['oscar'] for name in section.keys()}\n",
    "\n",
    "delegation= fdl['functions']['oscar'][0][orchestrator_name]['delegation']\n",
    "section_storage = list(fdl['storage_providers']['minio'])\n",
    "#print(section_storage[0])"
   ]
  },
  {
   "cell_type": "code",
   "execution_count": 17,
   "id": "41265275-ee3f-41e8-bcd9-4eea6a19721c",
   "metadata": {},
   "outputs": [
    {
     "name": "stdout",
     "output_type": "stream",
     "text": [
      "5\n"
     ]
    }
   ],
   "source": [
    "claves = list(fdl['functions']['oscar'][0][orchestrator_name].keys())\n",
    "posicion = claves.index('federation')\n",
    "print(posicion)\n"
   ]
  },
  {
   "cell_type": "code",
   "execution_count": 19,
   "id": "4030380b-2391-421f-90ba-e6c4a23029a6",
   "metadata": {},
   "outputs": [
    {
     "name": "stdout",
     "output_type": "stream",
     "text": [
      "{'name': 'grayifyr1', 'cpu': '0.5', 'memory': '0.5Gi', 'image': 'ghcr.io/grycap/imagemagick', 'script': 'script.sh', 'log_level': 'DEBUG', 'federation': True, 'delegation': 'random', 'input': [{'storage_provider': 'minio', 'path': 'grayifyr1/in'}], 'output': [{'storage_provider': 'minio', 'path': 'grayifyr1/out'}, {'storage_provider': 'minio.oscar-replica1', 'path': 'grayifyr0/out'}], 'replicas': [{'type': 'oscar', 'cluster_id': 'oscar-replica1', 'service_name': 'grayifyr0'}, {'type': 'oscar', 'cluster_id': 'oscar-other', 'service_name': 'grayifyr2'}, {'type': 'oscar', 'cluster_id': 'oscar-pi', 'service_name': 'grayifyr3'}]}\n",
      "FDL guardado en replicas/fedecluster_oscar_local.yaml\n",
      "{'name': 'grayifyr1', 'cpu': '0.5', 'memory': '0.5Gi', 'image': 'ghcr.io/grycap/imagemagick', 'script': 'script.sh', 'log_level': 'DEBUG', 'federation': True, 'delegation': 'random', 'input': [{'storage_provider': 'minio', 'path': 'grayifyr3/in'}], 'output': [{'storage_provider': 'minio', 'path': 'grayifyr3/out'}, {'storage_provider': 'minio.oscar-replica1', 'path': 'grayifyr0/out'}], 'replicas': [{'type': 'oscar', 'cluster_id': 'oscar-local', 'service_name': 'grayifyr1'}, {'type': 'oscar', 'cluster_id': 'oscar-other', 'service_name': 'grayifyr2'}, {'type': 'oscar', 'cluster_id': 'oscar-replica1', 'service_name': 'grayifyr0'}]}\n",
      "FDL guardado en replicas/fedecluster_oscar_pi.yaml\n",
      "{'name': 'grayifyr2', 'cpu': '0.5', 'memory': '0.5Gi', 'image': 'ghcr.io/grycap/imagemagick', 'script': 'script.sh', 'log_level': 'DEBUG', 'federation': True, 'delegation': 'random', 'input': [{'storage_provider': 'minio', 'path': 'grayifyr2/in'}], 'output': [{'storage_provider': 'minio', 'path': 'grayifyr2/out'}, {'storage_provider': 'minio.oscar-replica1', 'path': 'grayifyr0/out'}], 'replicas': [{'type': 'oscar', 'cluster_id': 'oscar-local', 'service_name': 'grayifyr1'}, {'type': 'oscar', 'cluster_id': 'oscar-replica1', 'service_name': 'grayifyr0'}, {'type': 'oscar', 'cluster_id': 'oscar-pi', 'service_name': 'grayifyr3'}]}\n",
      "FDL guardado en replicas/fedecluster_oscar_other.yaml\n"
     ]
    }
   ],
   "source": [
    "for section in fdl['functions']['oscar'][1:]:\n",
    "    element = {\n",
    "         \"functions\":{'oscar':list()}\n",
    " }\n",
    "    replica_name = list(section.keys())[0]\n",
    "   \n",
    "    \n",
    "    items = list(section[replica_name].items())\n",
    "    new_dict = {}\n",
    "\n",
    "# Recorremos las claves actuales e insertamos en la nueva estructura\n",
    "    for i, (clave, valor) in enumerate(items):\n",
    "        if i == posicion+1:\n",
    "        # Insertar la nueva clave en la posición indicada\n",
    "             new_dict[ 'federation'] = fdl['functions']['oscar'][0][orchestrator_name]['federation']\n",
    "             new_dict['delegation']=copy.copy(fdl['functions']['oscar'][0][orchestrator_name]['delegation'])\n",
    "    # Agregamos la clave y valor original\n",
    "        new_dict[clave] = valor\n",
    "\n",
    "# Si la posición es mayor que el número de elementos, agregamos al final\n",
    "    if len(items) <= posicion+1:\n",
    "        new_dict['federation'] = fdl['functions']['oscar'][0][orchestrator_name]['federation']\n",
    "        new_dict['delegation']=copy.copy(fdl['functions']['oscar'][0][orchestrator_name]['delegation'])\n",
    "\n",
    "    section[replica_name]=new_dict\n",
    "    print(section[replica_name])\n",
    "    \n",
    "   # section[replica_name]['federation']=copy.copy(fdl['functions']['oscar'][0][orchestrator_name]['federation'])\n",
    "    #section[replica_name]['delegation']=copy.copy(fdl['functions']['oscar'][0][orchestrator_name]['delegation'])\n",
    "    section[replica_name]['replicas'] = copy.deepcopy(orchestrator_replicas)\n",
    "    #section[section_name]['output'].append(first_output)\n",
    "    # Verifica que 'output' sea una lista antes de intentar agregarle elementos\n",
    "    if isinstance(section[replica_name]['output'], list):\n",
    "        orchestrator_output_copy = copy.deepcopy(orchestrator_output)\n",
    "        section[replica_name]['output'].extend(orchestrator_output_copy)\n",
    "        for storage in section_storage:\n",
    "                    if storage== section_names[0]:\n",
    "                        minio_storage= \"minio.\"+ storage\n",
    "                        minio= section[replica_name]['output'][-1]\n",
    "                        minio['storage_provider']= minio_storage\n",
    "                        #first_output_copy['storage_provider'] = minio_storage\n",
    "        \n",
    "    else:\n",
    "        raise TypeError(f\"El valor de 'output' en {replica_name} no es una lista.\")\n",
    "    #print(section_name)\n",
    "    # Modificar el 'cluster_id' en cada replica\n",
    "    for  replica in section[replica_name]['replicas']:\n",
    "        #section[section_name]['output']= first_output\n",
    "        if replica['cluster_id'] in name_to_section:\n",
    "            if replica['cluster_id'] == replica_name:\n",
    "                replica['cluster_id'] = section_names[0]\n",
    "                replica['service_name']= fdl['functions']['oscar'][0][orchestrator_name]['name']\n",
    "                \n",
    "   \n",
    "    # Cargar datos para generar fdl de cada servicio que tiene el sistema de replicas\n",
    "    element['functions']['oscar'].append( section)\n",
    "    \n",
    "    element['clusters']=copy.copy(fdl['clusters'])\n",
    "    element['storage_providers']=copy.copy(fdl['storage_providers'])\n",
    "    fdl_yaml_replica = yaml.dump(element, sort_keys=False)            \n",
    "    #print(fdl_yaml_replica)\n",
    "    ruta_archivo = directory+\"/fedecluster_\"+replica_name.replace(\"-\", \"_\")+'.yaml'\n",
    "\n",
    "    with open(ruta_archivo, 'w') as file:\n",
    "        yaml.dump(element, file, sort_keys=False)\n",
    "\n",
    "    print(f\"FDL guardado en {ruta_archivo}\")\n",
    "                \n",
    "\n",
    "# Convertir el diccionario modificado a YAML para ver el resultado\n",
    "fdl_yaml_modified = yaml.dump(fdl, sort_keys=False)\n",
    "#print(type(fdl_yaml_modified))"
   ]
  },
  {
   "cell_type": "code",
   "execution_count": 79,
   "id": "126603e9-9f52-4451-a23e-9cf363972c16",
   "metadata": {},
   "outputs": [
    {
     "name": "stdout",
     "output_type": "stream",
     "text": [
      "FDL guardado en replicas/created_federation.yaml\n"
     ]
    }
   ],
   "source": [
    "### Guardar el contenido en un archivo YAML\n",
    "ruta_archivo = directory +'/created_federation.yaml'\n",
    "\n",
    "with open(ruta_archivo, 'w') as file:\n",
    "    yaml.dump(fdl, file, sort_keys=False)\n",
    "\n",
    "print(f\"FDL guardado en {ruta_archivo}\")"
   ]
  },
  {
   "cell_type": "code",
   "execution_count": 45,
   "id": "40de5a82-b157-4e21-b92e-3f04fb644b34",
   "metadata": {},
   "outputs": [
    {
     "name": "stdout",
     "output_type": "stream",
     "text": [
      "script.sh\n",
      "Archivo script.sh copiado a /replicas.\n",
      "replicas/fedecluster_oscar_pi.yaml\n",
      "replicas/fedecluster_oscar_other.yaml\n",
      "replicas/fedecluster_oscar_local.yaml\n",
      "replicas/fedecluster_oscar_replica1_orchestrator.yaml\n"
     ]
    }
   ],
   "source": [
    "\n",
    "add=0\n",
    "# Listar los elementos del directorio\n",
    "# Rutas de origen y destino\n",
    "script=copy.copy(fdl['functions']['oscar'][0][orchestrator_name]['script'])\n",
    "print(script)\n",
    "\n",
    "\n",
    "\n",
    "# Copiar el archivo\n",
    "try:\n",
    "    shutil.copy(script, directory+'/'+script)\n",
    "    print(f\"Archivo {script} copiado a /{directory}.\")\n",
    "except FileNotFoundError:\n",
    "    print(f\"El archivo {script} no se encontró.\")\n",
    "except PermissionError:\n",
    "    print(f\"No se tienen permisos para copiar el archivo {script}.\")\n",
    "except Exception as e:\n",
    "    print(f\"Ocurrió un error: {e}\")\n",
    "if os.listdir(directory):\n",
    "    for archive in os.listdir(directory):\n",
    "        ruta_completa = os.path.join(directory, archive)\n",
    "        fedecluster=\"fedecluster\" in ruta_completa\n",
    "        if os.path.isfile(ruta_completa) and ruta_completa.endswith('.yaml') and fedecluster :  # Verificar si es un archivo\n",
    "            print(ruta_completa)\n",
    "            add=add+1\n",
    "if add==0:\n",
    "    print(\"No existen ficheros yaml para ejecutar\")"
   ]
  },
  {
   "cell_type": "markdown",
   "id": "bdbbd850-0a9c-441e-b4e0-0c8b67f731ee",
   "metadata": {},
   "source": [
    "import subprocess\n",
    "\n",
    "# Ejecutar un comando de consola (ejemplo: listar archivos en el directorio actual)\n",
    "fdl_directory=directory+'/oscar_local.yaml'\n",
    "resultado = subprocess.run(['oscar-cli', 'apply',directory], capture_output=True, text=True)\n",
    "\n",
    "# Mostrar el resultado en consola\n",
    "print(resultado.stdout)"
   ]
  },
  {
   "cell_type": "code",
   "execution_count": 14,
   "id": "4fdbedd5-60ea-4cd3-91ca-d5c75d4ba967",
   "metadata": {},
   "outputs": [
    {
     "name": "stdout",
     "output_type": "stream",
     "text": [
      "<Response [200]>\n"
     ]
    }
   ],
   "source": [
    "from oscar_python.client import Client # api de python para OSCAR\n",
    "import yaml\n",
    "import copy\n",
    "import os\n",
    "import shutil\n",
    "# Ruta del archivo YAML\n",
    "directory = 'replicas'\n",
    "\n",
    "fdl_directory=directory+'/fedecluster_oscar_local.yaml'\n",
    "\n",
    "# Leer el contenido del archivo YAML y almacenarlo en una variable\n",
    "with open(fdl_directory, 'r') as file:\n",
    "    fdl= yaml.safe_load(file)\n",
    "name = fdl['functions']['oscar'][0]\n",
    "id_cluster=list(name.keys())[0]\n",
    "endpoint=fdl['clusters'][id_cluster]['endpoint']\n",
    "auth_user=fdl['clusters'][id_cluster]['auth_user']\n",
    "auth_password=fdl['clusters'][id_cluster]['auth_password']\n",
    "ssl_verify=fdl['clusters'][id_cluster]['ssl_verify']\n",
    "\n",
    "\n",
    "client = Client(id_cluster,endpoint, auth_user, auth_password, ssl_verify)\n",
    "services = client.list_services()\n",
    "print(services)\n"
   ]
  },
  {
   "cell_type": "code",
   "execution_count": 15,
   "id": "c9eeb1a9-092d-400d-8d0f-fb24bb8e758f",
   "metadata": {},
   "outputs": [
    {
     "name": "stdout",
     "output_type": "stream",
     "text": [
      "Error creating service:  500 Server Error: Internal Server Error for url: http://158.42.105.48/system/services\n"
     ]
    }
   ],
   "source": [
    "try:\n",
    "    client.create_service(fdl_directory)\n",
    "    print(\"Service created\")\n",
    "except Exception as ex:\n",
    "    print(\"Error creating service: \", ex)"
   ]
  },
  {
   "cell_type": "code",
   "execution_count": null,
   "id": "3ee04df9-2825-492a-aeb0-e03e3342beaa",
   "metadata": {},
   "outputs": [],
   "source": []
  }
 ],
 "metadata": {
  "kernelspec": {
   "display_name": "Python 3 (ipykernel)",
   "language": "python",
   "name": "python3"
  },
  "language_info": {
   "codemirror_mode": {
    "name": "ipython",
    "version": 3
   },
   "file_extension": ".py",
   "mimetype": "text/x-python",
   "name": "python",
   "nbconvert_exporter": "python",
   "pygments_lexer": "ipython3",
   "version": "3.10.12"
  }
 },
 "nbformat": 4,
 "nbformat_minor": 5
}
