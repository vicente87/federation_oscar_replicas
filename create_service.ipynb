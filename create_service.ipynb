{
 "cells": [
  {
   "cell_type": "code",
   "execution_count": 38,
   "id": "0e216aea-50c8-4b56-b213-210f3c8ba5e3",
   "metadata": {},
   "outputs": [
    {
     "name": "stdout",
     "output_type": "stream",
     "text": [
      "<Response [200]>\n"
     ]
    }
   ],
   "source": [
    "from oscar_python.client import Client # api de python para OSCAR\n",
    "\n",
    "\n",
    "\n",
    "client = Client(\"oscar-replica1\",\"https://condescending-albattani4.im.grycap.net\", \"oscar\", \"oscar123\", True)\n",
    "services = client.list_services()\n",
    "print(services)"
   ]
  },
  {
   "cell_type": "code",
   "execution_count": 39,
   "id": "98176c49-433e-4560-a638-710fe1737602",
   "metadata": {},
   "outputs": [
    {
     "name": "stdout",
     "output_type": "stream",
     "text": [
      "Service created\n"
     ]
    }
   ],
   "source": [
    "#client.create_service(\"fedecluster_oscar_local.yaml\")\n",
    "try:\n",
    "    client.create_service(\"replicas/fedecluster_oscar_replica1_orchestrator.yaml\")\n",
    "    print(\"Service created\")\n",
    "except Exception as ex:\n",
    "    print(\"Error creating service: \", ex)"
   ]
  },
  {
   "cell_type": "code",
   "execution_count": null,
   "id": "457d9f98-9b97-48a6-b904-67417266e2e2",
   "metadata": {},
   "outputs": [],
   "source": []
  }
 ],
 "metadata": {
  "kernelspec": {
   "display_name": "Python 3 (ipykernel)",
   "language": "python",
   "name": "python3"
  },
  "language_info": {
   "codemirror_mode": {
    "name": "ipython",
    "version": 3
   },
   "file_extension": ".py",
   "mimetype": "text/x-python",
   "name": "python",
   "nbconvert_exporter": "python",
   "pygments_lexer": "ipython3",
   "version": "3.10.12"
  }
 },
 "nbformat": 4,
 "nbformat_minor": 5
}
